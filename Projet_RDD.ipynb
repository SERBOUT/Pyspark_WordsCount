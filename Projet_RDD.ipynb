{
 "cells": [
  {
   "cell_type": "markdown",
   "metadata": {},
   "source": [
    "# Projet sur les RDD  "
   ]
  },
  {
   "cell_type": "markdown",
   "metadata": {},
   "source": [
    "## Importation des librairies "
   ]
  },
  {
   "cell_type": "code",
   "execution_count": null,
   "metadata": {},
   "outputs": [],
   "source": [
    "import findspark\n",
    "findspark.init(\"C:/spark\")\n",
    "import pyspark \n",
    "findspark.find()"
   ]
  },
  {
   "cell_type": "markdown",
   "metadata": {},
   "source": [
    "## 1. Configuration et initialisation du spark context  "
   ]
  },
  {
   "cell_type": "code",
   "execution_count": 3,
   "metadata": {},
   "outputs": [],
   "source": [
    "from pyspark import SparkContext, SparkConf\n",
    "conf = pyspark.SparkConf().setAppName('SparkApp').setMaster('local')"
   ]
  },
  {
   "cell_type": "code",
   "execution_count": 4,
   "metadata": {},
   "outputs": [],
   "source": [
    "sc = pyspark.SparkContext(conf = conf)"
   ]
  },
  {
   "cell_type": "markdown",
   "metadata": {},
   "source": [
    "## 2. Importation du fichier sample.txt"
   ]
  },
  {
   "cell_type": "code",
   "execution_count": 10,
   "metadata": {},
   "outputs": [],
   "source": [
    "RDD=sc.textFile('sample.txt')"
   ]
  },
  {
   "cell_type": "code",
   "execution_count": 14,
   "metadata": {},
   "outputs": [
    {
     "data": {
      "text/plain": [
       "['twinkle twinkle little star',\n",
       " 'how I wonder what you are',\n",
       " 'up above the world so high',\n",
       " 'like a diamond in the sky',\n",
       " 'twinkle twinkle little star']"
      ]
     },
     "execution_count": 14,
     "metadata": {},
     "output_type": "execute_result"
    }
   ],
   "source": [
    "RDD.collect()"
   ]
  },
  {
   "cell_type": "markdown",
   "metadata": {},
   "source": [
    "## 3. Word count "
   ]
  },
  {
   "cell_type": "code",
   "execution_count": 19,
   "metadata": {},
   "outputs": [],
   "source": [
    "RDD_words=RDD.flatMap(lambda x: x.split(\" \"))"
   ]
  },
  {
   "cell_type": "code",
   "execution_count": 23,
   "metadata": {},
   "outputs": [],
   "source": [
    "RDD_words_count=RDD_words.map(lambda x: (x,1)).reduceByKey(lambda x,y: x+y)"
   ]
  },
  {
   "cell_type": "markdown",
   "metadata": {},
   "source": [
    "## 4. Affichage du résultat du comptage sous la forme de Tuple (clé, valeur)"
   ]
  },
  {
   "cell_type": "code",
   "execution_count": 24,
   "metadata": {},
   "outputs": [
    {
     "data": {
      "text/plain": [
       "[('twinkle', 4),\n",
       " ('little', 2),\n",
       " ('star', 2),\n",
       " ('how', 1),\n",
       " ('I', 1),\n",
       " ('wonder', 1),\n",
       " ('what', 1),\n",
       " ('you', 1),\n",
       " ('are', 1),\n",
       " ('up', 1),\n",
       " ('above', 1),\n",
       " ('the', 2),\n",
       " ('world', 1),\n",
       " ('so', 1),\n",
       " ('high', 1),\n",
       " ('like', 1),\n",
       " ('a', 1),\n",
       " ('diamond', 1),\n",
       " ('in', 1),\n",
       " ('sky', 1)]"
      ]
     },
     "execution_count": 24,
     "metadata": {},
     "output_type": "execute_result"
    }
   ],
   "source": [
    "RDD_words_count.collect()"
   ]
  },
  {
   "cell_type": "code",
   "execution_count": 25,
   "metadata": {},
   "outputs": [
    {
     "name": "stdout",
     "output_type": "stream",
     "text": [
      "twinkle 4\n",
      "little 2\n",
      "star 2\n",
      "how 1\n",
      "I 1\n",
      "wonder 1\n",
      "what 1\n",
      "you 1\n",
      "are 1\n",
      "up 1\n",
      "above 1\n",
      "the 2\n",
      "world 1\n",
      "so 1\n",
      "high 1\n",
      "like 1\n",
      "a 1\n",
      "diamond 1\n",
      "in 1\n",
      "sky 1\n"
     ]
    }
   ],
   "source": [
    "for kee, val in RDD_words_count.collect():\n",
    "    print(kee,val)"
   ]
  },
  {
   "cell_type": "markdown",
   "metadata": {},
   "source": [
    "## 5. Exportation de la RDD_words_count"
   ]
  },
  {
   "cell_type": "code",
   "execution_count": null,
   "metadata": {},
   "outputs": [],
   "source": [
    "RDD_words_count.coalesce(1).saveAsTextFile(\"WordCountsample\")"
   ]
  }
 ],
 "metadata": {
  "kernelspec": {
   "display_name": "Python 3",
   "language": "python",
   "name": "python3"
  },
  "language_info": {
   "codemirror_mode": {
    "name": "ipython",
    "version": 3
   },
   "file_extension": ".py",
   "mimetype": "text/x-python",
   "name": "python",
   "nbconvert_exporter": "python",
   "pygments_lexer": "ipython3",
   "version": "3.8.5"
  }
 },
 "nbformat": 4,
 "nbformat_minor": 4
}
